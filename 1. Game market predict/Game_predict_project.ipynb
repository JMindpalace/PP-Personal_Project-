{
  "nbformat": 4,
  "nbformat_minor": 0,
  "metadata": {
    "colab": {
      "provenance": []
    },
    "kernelspec": {
      "name": "python3",
      "display_name": "Python 3"
    },
    "language_info": {
      "name": "python"
    }
  },
  "cells": [
    {
      "cell_type": "markdown",
      "source": [
        "# 1. 문제정의"
      ],
      "metadata": {
        "id": "GSFN6NxeSOyd"
      }
    },
    {
      "cell_type": "markdown",
      "source": [
        "## 다음 분기에 어떤 게임을 설계할지 결정하시오."
      ],
      "metadata": {
        "id": "35uWBuChSpPw"
      }
    },
    {
      "cell_type": "code",
      "source": [
        "import pandas as pd\n",
        "import matplotlib.pyplot as plt"
      ],
      "metadata": {
        "id": "qwCR1TQqS2tl"
      },
      "execution_count": 85,
      "outputs": []
    },
    {
      "cell_type": "code",
      "source": [
        "df = pd.read_csv('vgames2.csv', index_col=0) # 엑셀 CSV이기에 인덱스 열 제거\n",
        "df.head(5)"
      ],
      "metadata": {
        "colab": {
          "base_uri": "https://localhost:8080/",
          "height": 206
        },
        "id": "9j-mAuhMS3Fi",
        "outputId": "8e809a7c-fd50-4d7c-fbd5-93c18816d3d1"
      },
      "execution_count": 86,
      "outputs": [
        {
          "output_type": "execute_result",
          "data": {
            "text/plain": [
              "                                             Name Platform    Year      Genre  \\\n",
              "1                    Candace Kane's Candy Factory       DS  2008.0     Action   \n",
              "2                                  The Munchables      Wii  2009.0     Action   \n",
              "3  Otome wa Oanesama Boku ni Koi Shiteru Portable      PSP  2010.0  Adventure   \n",
              "4                Deal or No Deal: Special Edition       DS  2010.0       Misc   \n",
              "5       Ben 10 Ultimate Alien: Cosmic Destruction      PS3  2010.0   Platform   \n",
              "\n",
              "            Publisher NA_Sales EU_Sales JP_Sales Other_Sales  \n",
              "1           Destineer     0.04        0        0           0  \n",
              "2  Namco Bandai Games     0.17        0        0        0.01  \n",
              "3           Alchemist        0        0     0.02           0  \n",
              "4           Zoo Games     0.04        0        0           0  \n",
              "5         D3Publisher     0.12     0.09        0        0.04  "
            ],
            "text/html": [
              "\n",
              "  <div id=\"df-a00b9deb-652c-435c-ab83-65dbdaf17559\">\n",
              "    <div class=\"colab-df-container\">\n",
              "      <div>\n",
              "<style scoped>\n",
              "    .dataframe tbody tr th:only-of-type {\n",
              "        vertical-align: middle;\n",
              "    }\n",
              "\n",
              "    .dataframe tbody tr th {\n",
              "        vertical-align: top;\n",
              "    }\n",
              "\n",
              "    .dataframe thead th {\n",
              "        text-align: right;\n",
              "    }\n",
              "</style>\n",
              "<table border=\"1\" class=\"dataframe\">\n",
              "  <thead>\n",
              "    <tr style=\"text-align: right;\">\n",
              "      <th></th>\n",
              "      <th>Name</th>\n",
              "      <th>Platform</th>\n",
              "      <th>Year</th>\n",
              "      <th>Genre</th>\n",
              "      <th>Publisher</th>\n",
              "      <th>NA_Sales</th>\n",
              "      <th>EU_Sales</th>\n",
              "      <th>JP_Sales</th>\n",
              "      <th>Other_Sales</th>\n",
              "    </tr>\n",
              "  </thead>\n",
              "  <tbody>\n",
              "    <tr>\n",
              "      <th>1</th>\n",
              "      <td>Candace Kane's Candy Factory</td>\n",
              "      <td>DS</td>\n",
              "      <td>2008.0</td>\n",
              "      <td>Action</td>\n",
              "      <td>Destineer</td>\n",
              "      <td>0.04</td>\n",
              "      <td>0</td>\n",
              "      <td>0</td>\n",
              "      <td>0</td>\n",
              "    </tr>\n",
              "    <tr>\n",
              "      <th>2</th>\n",
              "      <td>The Munchables</td>\n",
              "      <td>Wii</td>\n",
              "      <td>2009.0</td>\n",
              "      <td>Action</td>\n",
              "      <td>Namco Bandai Games</td>\n",
              "      <td>0.17</td>\n",
              "      <td>0</td>\n",
              "      <td>0</td>\n",
              "      <td>0.01</td>\n",
              "    </tr>\n",
              "    <tr>\n",
              "      <th>3</th>\n",
              "      <td>Otome wa Oanesama Boku ni Koi Shiteru Portable</td>\n",
              "      <td>PSP</td>\n",
              "      <td>2010.0</td>\n",
              "      <td>Adventure</td>\n",
              "      <td>Alchemist</td>\n",
              "      <td>0</td>\n",
              "      <td>0</td>\n",
              "      <td>0.02</td>\n",
              "      <td>0</td>\n",
              "    </tr>\n",
              "    <tr>\n",
              "      <th>4</th>\n",
              "      <td>Deal or No Deal: Special Edition</td>\n",
              "      <td>DS</td>\n",
              "      <td>2010.0</td>\n",
              "      <td>Misc</td>\n",
              "      <td>Zoo Games</td>\n",
              "      <td>0.04</td>\n",
              "      <td>0</td>\n",
              "      <td>0</td>\n",
              "      <td>0</td>\n",
              "    </tr>\n",
              "    <tr>\n",
              "      <th>5</th>\n",
              "      <td>Ben 10 Ultimate Alien: Cosmic Destruction</td>\n",
              "      <td>PS3</td>\n",
              "      <td>2010.0</td>\n",
              "      <td>Platform</td>\n",
              "      <td>D3Publisher</td>\n",
              "      <td>0.12</td>\n",
              "      <td>0.09</td>\n",
              "      <td>0</td>\n",
              "      <td>0.04</td>\n",
              "    </tr>\n",
              "  </tbody>\n",
              "</table>\n",
              "</div>\n",
              "      <button class=\"colab-df-convert\" onclick=\"convertToInteractive('df-a00b9deb-652c-435c-ab83-65dbdaf17559')\"\n",
              "              title=\"Convert this dataframe to an interactive table.\"\n",
              "              style=\"display:none;\">\n",
              "        \n",
              "  <svg xmlns=\"http://www.w3.org/2000/svg\" height=\"24px\"viewBox=\"0 0 24 24\"\n",
              "       width=\"24px\">\n",
              "    <path d=\"M0 0h24v24H0V0z\" fill=\"none\"/>\n",
              "    <path d=\"M18.56 5.44l.94 2.06.94-2.06 2.06-.94-2.06-.94-.94-2.06-.94 2.06-2.06.94zm-11 1L8.5 8.5l.94-2.06 2.06-.94-2.06-.94L8.5 2.5l-.94 2.06-2.06.94zm10 10l.94 2.06.94-2.06 2.06-.94-2.06-.94-.94-2.06-.94 2.06-2.06.94z\"/><path d=\"M17.41 7.96l-1.37-1.37c-.4-.4-.92-.59-1.43-.59-.52 0-1.04.2-1.43.59L10.3 9.45l-7.72 7.72c-.78.78-.78 2.05 0 2.83L4 21.41c.39.39.9.59 1.41.59.51 0 1.02-.2 1.41-.59l7.78-7.78 2.81-2.81c.8-.78.8-2.07 0-2.86zM5.41 20L4 18.59l7.72-7.72 1.47 1.35L5.41 20z\"/>\n",
              "  </svg>\n",
              "      </button>\n",
              "      \n",
              "  <style>\n",
              "    .colab-df-container {\n",
              "      display:flex;\n",
              "      flex-wrap:wrap;\n",
              "      gap: 12px;\n",
              "    }\n",
              "\n",
              "    .colab-df-convert {\n",
              "      background-color: #E8F0FE;\n",
              "      border: none;\n",
              "      border-radius: 50%;\n",
              "      cursor: pointer;\n",
              "      display: none;\n",
              "      fill: #1967D2;\n",
              "      height: 32px;\n",
              "      padding: 0 0 0 0;\n",
              "      width: 32px;\n",
              "    }\n",
              "\n",
              "    .colab-df-convert:hover {\n",
              "      background-color: #E2EBFA;\n",
              "      box-shadow: 0px 1px 2px rgba(60, 64, 67, 0.3), 0px 1px 3px 1px rgba(60, 64, 67, 0.15);\n",
              "      fill: #174EA6;\n",
              "    }\n",
              "\n",
              "    [theme=dark] .colab-df-convert {\n",
              "      background-color: #3B4455;\n",
              "      fill: #D2E3FC;\n",
              "    }\n",
              "\n",
              "    [theme=dark] .colab-df-convert:hover {\n",
              "      background-color: #434B5C;\n",
              "      box-shadow: 0px 1px 3px 1px rgba(0, 0, 0, 0.15);\n",
              "      filter: drop-shadow(0px 1px 2px rgba(0, 0, 0, 0.3));\n",
              "      fill: #FFFFFF;\n",
              "    }\n",
              "  </style>\n",
              "\n",
              "      <script>\n",
              "        const buttonEl =\n",
              "          document.querySelector('#df-a00b9deb-652c-435c-ab83-65dbdaf17559 button.colab-df-convert');\n",
              "        buttonEl.style.display =\n",
              "          google.colab.kernel.accessAllowed ? 'block' : 'none';\n",
              "\n",
              "        async function convertToInteractive(key) {\n",
              "          const element = document.querySelector('#df-a00b9deb-652c-435c-ab83-65dbdaf17559');\n",
              "          const dataTable =\n",
              "            await google.colab.kernel.invokeFunction('convertToInteractive',\n",
              "                                                     [key], {});\n",
              "          if (!dataTable) return;\n",
              "\n",
              "          const docLinkHtml = 'Like what you see? Visit the ' +\n",
              "            '<a target=\"_blank\" href=https://colab.research.google.com/notebooks/data_table.ipynb>data table notebook</a>'\n",
              "            + ' to learn more about interactive tables.';\n",
              "          element.innerHTML = '';\n",
              "          dataTable['output_type'] = 'display_data';\n",
              "          await google.colab.output.renderOutput(dataTable, element);\n",
              "          const docLink = document.createElement('div');\n",
              "          docLink.innerHTML = docLinkHtml;\n",
              "          element.appendChild(docLink);\n",
              "        }\n",
              "      </script>\n",
              "    </div>\n",
              "  </div>\n",
              "  "
            ]
          },
          "metadata": {},
          "execution_count": 86
        }
      ]
    },
    {
      "cell_type": "markdown",
      "source": [
        "---\n",
        "---"
      ],
      "metadata": {
        "id": "oNWraFN-TwXo"
      }
    },
    {
      "cell_type": "markdown",
      "source": [
        "# 2. 데이터 전처리 (16,598 * 9 -> 11,240 * 11)"
      ],
      "metadata": {
        "id": "cF71miSxR3ZQ"
      }
    },
    {
      "cell_type": "markdown",
      "source": [
        "## 행 일괄 처리(16,598 -> 16,241)"
      ],
      "metadata": {
        "id": "1XHXFTsMUiNG"
      }
    },
    {
      "cell_type": "code",
      "source": [
        "# 완전 중복 값만 제거 - 동일 게임명이지만 다른 플랫폼의 중복값 처리는 배제함 (16,598 -> 16,597)\n",
        "df = df.drop_duplicates()"
      ],
      "metadata": {
        "id": "Bf1JXe6hT5wP"
      },
      "execution_count": 87,
      "outputs": []
    },
    {
      "cell_type": "code",
      "source": [
        "# Nan Data 제거 - 대체 값 삽입으로 오류를 만들 수 있기에 배제함 (16,597 -> 16,241)\n",
        "df = df.dropna() # 356(Year=270, Genre=50, Publisher=58)개 삭제 - df.isnull().sum()로 확인"
      ],
      "metadata": {
        "id": "b3k8WmtOVKyL"
      },
      "execution_count": 88,
      "outputs": []
    },
    {
      "cell_type": "markdown",
      "source": [
        "## 열별 전처리 (16,241 * 9 -> 11,240 * 11)"
      ],
      "metadata": {
        "id": "U8x8tYvlWiWV"
      }
    },
    {
      "cell_type": "code",
      "source": [
        "# Name(이름) - '.hack//' 8개 오류 변경, 나머지 변경은 도메인 부족으로 후속검증 조치\n",
        "df.Name = df.Name.str.replace('.hack//','', regex=False)"
      ],
      "metadata": {
        "id": "UhMq0rU9rf85"
      },
      "execution_count": 89,
      "outputs": []
    },
    {
      "cell_type": "code",
      "source": [
        "# Platform(플랫폼) - 오류 및 기타 사유 값은 분석에서 제외함 (16,241 -> 13,129)\n",
        "  # 오류 값 - '2600' : 대체 값이 없고, 연도와는 무관해 보이는 값\n",
        "  # 기타사유 - 'PCFX' etc : 특정 국가에서만 판매, 생산량 100개 이하, 10년 내 미생산은 단종으로 처리\n",
        "\n",
        "df = df[ df['Platform'] != '2600' ] # 101개 데이터\n",
        "df = df[ (df['Platform'] != 'PCFX') & (df['Platform'] != 'TG16') & (df['Platform'] != '3DO') & (df['Platform'] != 'SCD') & (df['Platform'] != 'WS') &\n",
        "         (df['Platform'] != 'GEN') & (df['Platform'] != 'DC') & (df['Platform'] != 'NES') & (df['Platform'] != 'GB') & (df['Platform'] != 'NG') &\n",
        "         (df['Platform'] != 'SNES') & (df['Platform'] != 'SAT') &\n",
        "         (df['Platform'] != 'GC') & (df['Platform'] != 'N64') &\n",
        "         (df['Platform'] != 'Wii') & (df['Platform'] != 'WiiU') ]"
      ],
      "metadata": {
        "id": "kurQIid7o4q9"
      },
      "execution_count": 90,
      "outputs": []
    },
    {
      "cell_type": "code",
      "source": [
        "# Year(연도) - 기존 df.Year로 데이터 변경 시 'SettingWithCopyWarning' 에러 발생 ==> 추천대로 copy와 loc을 사용\n",
        "  # 에러 이유: 자료구조인 DataFrame의 Year의 부분 변경이기에 원본과 파생의 수정적 오류를 막기 위한 경고\n",
        "\n",
        "# 1. 데이터 타입 변경: Float -> Int // 변경 근거: (대소, 범위)연산 진행을 위해 변환\n",
        "df.Year = df.Year.astype(int)\n",
        "\n",
        "# 2. 데이터 값 변경: 100이하 값( 0~16= 2000년도 / 86~98= 1900년도 ) // 변경 근거: 몇 개의 게임을 검색해본 결과 변경연도와 일치함\n",
        "under20 = df[df.Year < 20].copy()\n",
        "under20['Year'] += 2000\n",
        "df.loc[under20.index, 'Year'] = under20['Year']\n",
        "\n",
        "upper85 = df[(df.Year > 85) & (df.Year < 100)].copy()\n",
        "upper85['Year'] += 1900\n",
        "df.loc[upper85.index, 'Year'] = upper85['Year']"
      ],
      "metadata": {
        "id": "aQTQ_XC2YCio"
      },
      "execution_count": 91,
      "outputs": []
    },
    {
      "cell_type": "code",
      "source": [
        "# Genre(장르) - 오류 2종(Misc, Platform) 데이터 2,554개 제거 (13,129 -> 11,240)\n",
        "  # Misc(기타, 1,681개) 값은 추후 장르 분석에서 명확한 구분이 되지 않는 데이터로 제거함\n",
        "  # Platform(873개) 값은 플랫폼 열에는 값이 있기에 잘못 기재한 오류데이터로 제거함\n",
        "df = df[ (df['Genre'] != 'Misc') & (df['Genre'] != 'Platform') ]"
      ],
      "metadata": {
        "id": "lB3XfZ0Iffih"
      },
      "execution_count": 92,
      "outputs": []
    },
    {
      "cell_type": "code",
      "source": [
        "# Sales(출고량) - 수치 연산을 위한 데이터 타입 변경과 열 추가\n",
        "\n",
        "# 1-1. 소수점을 없애기 위해 최솟값을 1개로 설정하기 위해, 전체 값에 100을 곱한다.\n",
        "# 1-2. 출고량에 K,M 문자는 K는 10을, M은 10,000을 추가로 곱하고, 문자는 제거한다.\n",
        "# 2. 데이터 타입 변경: Object -> Int // 변경 근거: (대소, 범위)연산 진행을 위해 변환\n",
        "bm = df.NA_Sales.str.extract('(\\d+M$)').dropna() # 북미 출고량 조정\n",
        "bk = df.NA_Sales.str.extract('(\\d+K$)').dropna()\n",
        "df.NA_Sales = df.NA_Sales.str.replace('K','').str.replace('M','').astype(float);\n",
        "df.NA_Sales *= 100;\n",
        "\n",
        "NA_Salesbk = df.NA_Sales[bk.index].copy()\n",
        "NA_Salesbk *= 10\n",
        "df.loc[NA_Salesbk.index, 'NA_Sales'] = NA_Salesbk\n",
        "\n",
        "NA_Salesbm = df.NA_Sales[bm.index].copy()\n",
        "NA_Salesbm *= 10000\n",
        "df.loc[NA_Salesbm.index, 'NA_Sales'] = NA_Salesbm\n",
        "\n",
        "df.NA_Sales = df.NA_Sales.astype(int)\n",
        "\n",
        "cm = df.EU_Sales.str.extract('(\\d+M$)').dropna() # EU 출고량 조정\n",
        "ck = df.EU_Sales.str.extract('(\\d+K$)').dropna()\n",
        "df.EU_Sales = df.EU_Sales.str.replace('K','').str.replace('M','').astype(float)\n",
        "df.EU_Sales *= 100;\n",
        "\n",
        "EU_Salesck = df.EU_Sales[ck.index].copy()\n",
        "EU_Salesck *= 10\n",
        "df.loc[EU_Salesck.index, 'EU_Sales'] = EU_Salesck\n",
        "\n",
        "EU_Salescm = df.EU_Sales[cm.index].copy()\n",
        "EU_Salescm *= 10000\n",
        "df.loc[EU_Salescm.index, 'EU_Sales'] = EU_Salescm\n",
        "\n",
        "df.EU_Sales = df.EU_Sales.astype(int)\n",
        "\n",
        "dm = df.JP_Sales.str.extract('(\\d+M$)').dropna() # 일본 출고량 조정\n",
        "dk = df.JP_Sales.str.extract('(\\d+K$)').dropna()\n",
        "df.JP_Sales = df.JP_Sales.str.replace('K','').str.replace('M','').astype(float)\n",
        "df.JP_Sales *= 1000;\n",
        "\n",
        "JP_Salesdk = df.JP_Sales[dk.index].copy()\n",
        "JP_Salesdk *= 10\n",
        "df.loc[JP_Salesdk.index, 'JP_Sales'] = JP_Salesdk\n",
        "\n",
        "JP_Salesdm = df.JP_Sales[cm.index].copy()\n",
        "JP_Salesdm *= 10000\n",
        "df.loc[JP_Salesdm.index, 'JP_Sales'] = JP_Salesdm\n",
        "\n",
        "df.JP_Sales = df.JP_Sales.astype(int)\n",
        "\n",
        "em = df.Other_Sales.str.extract('(\\d+M$)').dropna() # 기타 출고량 조정\n",
        "ek = df.Other_Sales.str.extract('(\\d+K$)').dropna()\n",
        "df.Other_Sales = df.Other_Sales.str.replace('K','').str.replace('M','').astype(float)\n",
        "df.Other_Sales *= 1000;\n",
        "\n",
        "Other_Salesek = df.Other_Sales[dk.index].copy()\n",
        "Other_Salesek *= 10\n",
        "df.loc[Other_Salesek.index, 'Other_Sales'] = Other_Salesek\n",
        "\n",
        "Other_Salesem = df.Other_Sales[cm.index].copy()\n",
        "Other_Salesem *= 10000\n",
        "df.loc[Other_Salesem.index, 'Other_Sales'] = Other_Salesem\n",
        "\n",
        "df.Other_Sales = df.Other_Sales.astype(int)\n",
        "\n",
        "\n",
        "# 3. ['전체 출고량'] 열(개별 출고량 합) 과 ['Platform_num'] 열(플랫폼을 수치화) 추가\n",
        "df['Total_Sales'] = df.NA_Sales + df.EU_Sales + df.JP_Sales + df.Other_Sales\n",
        "\n",
        "a , b = df.Genre.value_counts().index , df.Platform.value_counts().index; rea , reb = {} , {}; list1 , list2 = df.Genre , df.Platform\n",
        "for i in range(len(b)): # 플랫폼 수치화\n",
        "  emp = b[i]; reb[emp]=i+1\n",
        "for key , value in reb.items(): # ['Platform_num'] 열을 추가\n",
        "  list2 = list2.replace(key, value)\n",
        "df['Platform_num'] = list2"
      ],
      "metadata": {
        "id": "jMLTuQhxsHk4"
      },
      "execution_count": 93,
      "outputs": []
    },
    {
      "cell_type": "code",
      "source": [
        "df = df[ ['Name' , 'Platform' , 'Platform_num' , 'Year' , 'Genre', 'Publisher' , 'NA_Sales' , 'EU_Sales' , 'JP_Sales' , 'Other_Sales' , 'Total_Sales' ] ]\n",
        "df.head(3)"
      ],
      "metadata": {
        "colab": {
          "base_uri": "https://localhost:8080/",
          "height": 143
        },
        "id": "c2ABXdvHznnb",
        "outputId": "95920ef5-8f65-49da-9211-16d2804f5157"
      },
      "execution_count": 96,
      "outputs": [
        {
          "output_type": "execute_result",
          "data": {
            "text/plain": [
              "                                             Name Platform  Platform_num  \\\n",
              "1                    Candace Kane's Candy Factory       DS             2   \n",
              "3  Otome wa Oanesama Boku ni Koi Shiteru Portable      PSP             5   \n",
              "6                          Power Pro Kun Pocket 8       DS             2   \n",
              "\n",
              "   Year      Genre                     Publisher  NA_Sales  EU_Sales  \\\n",
              "1  2008     Action                     Destineer         4         0   \n",
              "3  2010  Adventure                     Alchemist         0         0   \n",
              "6  2005     Sports  Konami Digital Entertainment         0         0   \n",
              "\n",
              "   JP_Sales  Other_Sales  Total_Sales  \n",
              "1         0            0            4  \n",
              "3        20            0           20  \n",
              "6       140            0          140  "
            ],
            "text/html": [
              "\n",
              "  <div id=\"df-0a840a13-7ae2-4a84-8e17-d7d0f62df801\">\n",
              "    <div class=\"colab-df-container\">\n",
              "      <div>\n",
              "<style scoped>\n",
              "    .dataframe tbody tr th:only-of-type {\n",
              "        vertical-align: middle;\n",
              "    }\n",
              "\n",
              "    .dataframe tbody tr th {\n",
              "        vertical-align: top;\n",
              "    }\n",
              "\n",
              "    .dataframe thead th {\n",
              "        text-align: right;\n",
              "    }\n",
              "</style>\n",
              "<table border=\"1\" class=\"dataframe\">\n",
              "  <thead>\n",
              "    <tr style=\"text-align: right;\">\n",
              "      <th></th>\n",
              "      <th>Name</th>\n",
              "      <th>Platform</th>\n",
              "      <th>Platform_num</th>\n",
              "      <th>Year</th>\n",
              "      <th>Genre</th>\n",
              "      <th>Publisher</th>\n",
              "      <th>NA_Sales</th>\n",
              "      <th>EU_Sales</th>\n",
              "      <th>JP_Sales</th>\n",
              "      <th>Other_Sales</th>\n",
              "      <th>Total_Sales</th>\n",
              "    </tr>\n",
              "  </thead>\n",
              "  <tbody>\n",
              "    <tr>\n",
              "      <th>1</th>\n",
              "      <td>Candace Kane's Candy Factory</td>\n",
              "      <td>DS</td>\n",
              "      <td>2</td>\n",
              "      <td>2008</td>\n",
              "      <td>Action</td>\n",
              "      <td>Destineer</td>\n",
              "      <td>4</td>\n",
              "      <td>0</td>\n",
              "      <td>0</td>\n",
              "      <td>0</td>\n",
              "      <td>4</td>\n",
              "    </tr>\n",
              "    <tr>\n",
              "      <th>3</th>\n",
              "      <td>Otome wa Oanesama Boku ni Koi Shiteru Portable</td>\n",
              "      <td>PSP</td>\n",
              "      <td>5</td>\n",
              "      <td>2010</td>\n",
              "      <td>Adventure</td>\n",
              "      <td>Alchemist</td>\n",
              "      <td>0</td>\n",
              "      <td>0</td>\n",
              "      <td>20</td>\n",
              "      <td>0</td>\n",
              "      <td>20</td>\n",
              "    </tr>\n",
              "    <tr>\n",
              "      <th>6</th>\n",
              "      <td>Power Pro Kun Pocket 8</td>\n",
              "      <td>DS</td>\n",
              "      <td>2</td>\n",
              "      <td>2005</td>\n",
              "      <td>Sports</td>\n",
              "      <td>Konami Digital Entertainment</td>\n",
              "      <td>0</td>\n",
              "      <td>0</td>\n",
              "      <td>140</td>\n",
              "      <td>0</td>\n",
              "      <td>140</td>\n",
              "    </tr>\n",
              "  </tbody>\n",
              "</table>\n",
              "</div>\n",
              "      <button class=\"colab-df-convert\" onclick=\"convertToInteractive('df-0a840a13-7ae2-4a84-8e17-d7d0f62df801')\"\n",
              "              title=\"Convert this dataframe to an interactive table.\"\n",
              "              style=\"display:none;\">\n",
              "        \n",
              "  <svg xmlns=\"http://www.w3.org/2000/svg\" height=\"24px\"viewBox=\"0 0 24 24\"\n",
              "       width=\"24px\">\n",
              "    <path d=\"M0 0h24v24H0V0z\" fill=\"none\"/>\n",
              "    <path d=\"M18.56 5.44l.94 2.06.94-2.06 2.06-.94-2.06-.94-.94-2.06-.94 2.06-2.06.94zm-11 1L8.5 8.5l.94-2.06 2.06-.94-2.06-.94L8.5 2.5l-.94 2.06-2.06.94zm10 10l.94 2.06.94-2.06 2.06-.94-2.06-.94-.94-2.06-.94 2.06-2.06.94z\"/><path d=\"M17.41 7.96l-1.37-1.37c-.4-.4-.92-.59-1.43-.59-.52 0-1.04.2-1.43.59L10.3 9.45l-7.72 7.72c-.78.78-.78 2.05 0 2.83L4 21.41c.39.39.9.59 1.41.59.51 0 1.02-.2 1.41-.59l7.78-7.78 2.81-2.81c.8-.78.8-2.07 0-2.86zM5.41 20L4 18.59l7.72-7.72 1.47 1.35L5.41 20z\"/>\n",
              "  </svg>\n",
              "      </button>\n",
              "      \n",
              "  <style>\n",
              "    .colab-df-container {\n",
              "      display:flex;\n",
              "      flex-wrap:wrap;\n",
              "      gap: 12px;\n",
              "    }\n",
              "\n",
              "    .colab-df-convert {\n",
              "      background-color: #E8F0FE;\n",
              "      border: none;\n",
              "      border-radius: 50%;\n",
              "      cursor: pointer;\n",
              "      display: none;\n",
              "      fill: #1967D2;\n",
              "      height: 32px;\n",
              "      padding: 0 0 0 0;\n",
              "      width: 32px;\n",
              "    }\n",
              "\n",
              "    .colab-df-convert:hover {\n",
              "      background-color: #E2EBFA;\n",
              "      box-shadow: 0px 1px 2px rgba(60, 64, 67, 0.3), 0px 1px 3px 1px rgba(60, 64, 67, 0.15);\n",
              "      fill: #174EA6;\n",
              "    }\n",
              "\n",
              "    [theme=dark] .colab-df-convert {\n",
              "      background-color: #3B4455;\n",
              "      fill: #D2E3FC;\n",
              "    }\n",
              "\n",
              "    [theme=dark] .colab-df-convert:hover {\n",
              "      background-color: #434B5C;\n",
              "      box-shadow: 0px 1px 3px 1px rgba(0, 0, 0, 0.15);\n",
              "      filter: drop-shadow(0px 1px 2px rgba(0, 0, 0, 0.3));\n",
              "      fill: #FFFFFF;\n",
              "    }\n",
              "  </style>\n",
              "\n",
              "      <script>\n",
              "        const buttonEl =\n",
              "          document.querySelector('#df-0a840a13-7ae2-4a84-8e17-d7d0f62df801 button.colab-df-convert');\n",
              "        buttonEl.style.display =\n",
              "          google.colab.kernel.accessAllowed ? 'block' : 'none';\n",
              "\n",
              "        async function convertToInteractive(key) {\n",
              "          const element = document.querySelector('#df-0a840a13-7ae2-4a84-8e17-d7d0f62df801');\n",
              "          const dataTable =\n",
              "            await google.colab.kernel.invokeFunction('convertToInteractive',\n",
              "                                                     [key], {});\n",
              "          if (!dataTable) return;\n",
              "\n",
              "          const docLinkHtml = 'Like what you see? Visit the ' +\n",
              "            '<a target=\"_blank\" href=https://colab.research.google.com/notebooks/data_table.ipynb>data table notebook</a>'\n",
              "            + ' to learn more about interactive tables.';\n",
              "          element.innerHTML = '';\n",
              "          dataTable['output_type'] = 'display_data';\n",
              "          await google.colab.output.renderOutput(dataTable, element);\n",
              "          const docLink = document.createElement('div');\n",
              "          docLink.innerHTML = docLinkHtml;\n",
              "          element.appendChild(docLink);\n",
              "        }\n",
              "      </script>\n",
              "    </div>\n",
              "  </div>\n",
              "  "
            ]
          },
          "metadata": {},
          "execution_count": 96
        }
      ]
    },
    {
      "cell_type": "code",
      "source": [
        "# 데이터 전처리 종료 - 11,240개의 데이터를 모집단으로 재설정\n",
        "df.to_csv('전처리완료.csv', index=False)"
      ],
      "metadata": {
        "id": "ac9rhrh9t5qS"
      },
      "execution_count": null,
      "outputs": []
    },
    {
      "cell_type": "markdown",
      "source": [
        "---\n",
        "---"
      ],
      "metadata": {
        "id": "8NnEe8_PzHO0"
      }
    },
    {
      "cell_type": "markdown",
      "source": [
        "# 3. 데이터 분석 및 시각화"
      ],
      "metadata": {
        "id": "TIgqb7kZSWPO"
      }
    },
    {
      "cell_type": "markdown",
      "source": [
        "## 데이터 정의 - 중점 분석 데이터 = 수치(연도&판매량)와 플랫폼&장르 데이터"
      ],
      "metadata": {
        "id": "E9K-kTJWynBq"
      }
    },
    {
      "cell_type": "markdown",
      "source": [
        "### **Year(연도)** : 1985 ~ 2020년\n",
        "> 연도로써 최근 10년의 의미는 2006~2016년으로 정의함 <br>\n",
        "\n",
        "> 이유: 2020, 2017년을 분석에 포함하기에는 각각 1, 3개의 데이터로 빈약하고 <br>\n",
        "> 2019 ~ 2018년의 데이터가 없기에 2016년부터를 기준으로 함"
      ],
      "metadata": {
        "id": "D8oXWDKFytD3"
      }
    },
    {
      "cell_type": "code",
      "source": [
        "# 최고 매출 플랫폼 연도 분석\n",
        "aa = df [ (df.Platform == 'X360') & (df.Year != 2005) ]; bb = df [ df.Platform == 'PS3' ]\n",
        "\n",
        "aax = aa.groupby(['Year'])['Total_Sales'].sum().reset_index(); bbx = bb.groupby(['Year'])['Total_Sales'].sum().reset_index()\n",
        "adx = aax.Total_Sales.mean(); bdx = bbx.Total_Sales.mean()\n",
        "\n",
        "plt.figure( figsize=(20,10) ); plt.xticks(aax.Year);\n",
        "plt.bar(aax.Year , aax.Total_Sales , label='X360 Mean = 3,653,464', color='red' , alpha=0.4 );\n",
        "plt.bar(bbx.Year , bbx.Total_Sales , label='Ps3 Mean = 2,700,813', color='blue' , alpha=0.4 );\n",
        "plt.axhline(y=adx, color='r', linewidth=1); plt.axhline(y=bdx, color='blue', linewidth=1)\n",
        "\n",
        "for i in range(len(bbx)):\n",
        "    height = aax.Total_Sales[i]\n",
        "    plt.text(aax.Year[i], height + 100, '%.0f' %height, ha='center', va='bottom', size = 12)\n",
        "\n",
        "    he = bbx.Total_Sales[i]\n",
        "    plt.text(bbx.Year[i], he + 100, '%.0f' %he, ha='center', va='bottom', size = 12)\n",
        "    \n",
        "plt.legend(fontsize=25);"
      ],
      "metadata": {
        "id": "yrz02RUD5LXE"
      },
      "execution_count": null,
      "outputs": []
    },
    {
      "cell_type": "code",
      "source": [
        "aa = df [ (df.Platform == 'X360') & (df.Year != 2005) & (df.Genre != 'Simulation') ];\n",
        "bb = df [ (df.Platform == 'PS3') & (df.Genre != 'Sports') & (df.Genre != 'Fighting') & (df.Genre != 'Simulation') ]\n",
        "\n",
        "aax = aa.groupby(['Year'])['Total_Sales'].transform(max) == aa['Total_Sales']; bbx = bb.groupby(['Year'])['Total_Sales'].transform(max) == bb['Total_Sales']\n",
        "aab = list(aa[aax].Year); aac = list(aa[aax].Genre); bbb = list(bb[bbx].Year); bbc = list(bb[bbx].Genre)\n",
        "abx = pd.DataFrame( (zip(aab, aac)) , columns=['year' , 'genre']); bbx = pd.DataFrame( (zip(bbb, bbc)) , columns=['year' , 'genre']);\n",
        "abx = abx.sort_values('year') ; bbx = bbx.sort_values('year')\n",
        "\n",
        "plt.figure( figsize=(20,10) ); plt.xticks(abx.year);\n",
        "plt.scatter(abx.year , abx.genre, color='red' , label='X360 - 4Shooter, 4Action', marker='x' , s=350 );\n",
        "plt.scatter(bbx.year , bbx.genre, color='blue' , label='PS3 - 3Role-Playing', marker='o' , s=350 );\n",
        "plt.legend(fontsize = 30);"
      ],
      "metadata": {
        "id": "fnTNeffy5SHO"
      },
      "execution_count": null,
      "outputs": []
    },
    {
      "cell_type": "markdown",
      "source": [
        "### **Salse - each & Total**\n",
        "출고량은 소비자의 구매량이므로 출고량 0은 무료게임이 아닌 판매가 안 된 제품임 <br> 출고량 1의 의미는 1개라는 의미로 해석함"
      ],
      "metadata": {
        "id": "fP-xbt27yuUY"
      }
    },
    {
      "cell_type": "code",
      "source": [
        "# 최고 매출량\n",
        "df.loc[ df.NA_Sales.idxmax() ] # 북미 최고 매출 게임 - Grand Theft Auto V(2013, 액션, X360)\n",
        "df.loc[ df.EU_Sales.idxmax() ] # 유럽 최고 매출 게임 - FIFA 14(2013, 스포츠, X360)\n",
        "df.loc[ df.JP_Sales.idxmax() ] # 일본 최고 매출 게임 - Pokemon FireRed(2004, 롤플레잉, GBA)\n",
        "df.loc[ df.Other_Sales.idxmax() ] # 기타 최고 매출 게임 - Fallout3(2008, 롤플레잉, PS3)"
      ],
      "metadata": {
        "id": "soDX591I5U7B"
      },
      "execution_count": null,
      "outputs": []
    },
    {
      "cell_type": "code",
      "source": [
        "# 플랫폼 총 매출량\n",
        "PS_Series = df[df.Platform == 'PS'].Total_Sales.sum() + df[df.Platform == 'PS2'].Total_Sales.sum() + df[df.Platform == 'PS3'].Total_Sales.sum() + df[df.Platform == 'PSP'].Total_Sales.sum() + df[df.Platform == 'PS4'].Total_Sales.sum() + df[df.Platform == 'PSV'].Total_Sales.sum()\n",
        "Xbox_Series = df[df.Platform == 'XB'].Total_Sales.sum() + df[df.Platform == 'X360'].Total_Sales.sum() + df[df.Platform == 'XOne'].Total_Sales.sum()\n",
        "Nin_Series = df[df.Platform == 'DS'].Total_Sales.sum() + df[df.Platform == '3DS'].Total_Sales.sum()\n",
        "\n",
        "platform = [PS_Series , Xbox_Series , Nin_Series , df[df.Platform == 'PC'].Total_Sales.sum() , df[df.Platform == 'GBA'].Total_Sales.sum() ]\n",
        "labels = ['PS_Series' , 'Xbox_Series' , 'Nin_Series' , 'PC' , 'GBA']\n",
        "\n",
        "plt.pie(platform, labels=labels , autopct='%.1f%%' );"
      ],
      "metadata": {
        "id": "2zdrmkNW30w5"
      },
      "execution_count": null,
      "outputs": []
    },
    {
      "cell_type": "code",
      "source": [
        "# 국가별 판매량 - NA_Sales, EU_Sales, JP_Sales, Other_Sales\n",
        "PS_Series = df[df.Platform == 'PS'].Other_Sales.sum() + df[df.Platform == 'PS2'].Other_Sales.sum() + df[df.Platform == 'PS3'].Other_Sales.sum() + df[df.Platform == 'PSP'].Other_Sales.sum() + df[df.Platform == 'PS4'].Other_Sales.sum() + df[df.Platform == 'PSV'].Other_Sales.sum()\n",
        "Xbox_Series = df[df.Platform == 'XB'].Other_Sales.sum() + df[df.Platform == 'X360'].Other_Sales.sum() + df[df.Platform == 'XOne'].Other_Sales.sum()\n",
        "Nin_Series = df[df.Platform == 'DS'].Other_Sales.sum() + df[df.Platform == '3DS'].Other_Sales.sum()\n",
        "\n",
        "platform = [PS_Series , Xbox_Series , Nin_Series , df[df.Platform == 'PC'].Other_Sales.sum() , df[df.Platform == 'GBA'].Other_Sales.sum() ]\n",
        "labels = ['PS_Series' , 'Xbox_Series' , 'Nin_Series' , 'PC' , 'GBA']\n",
        "\n",
        "plt.pie(platform, labels=labels , autopct='%.1f%%' );"
      ],
      "metadata": {
        "id": "zjJI7Tcb3-BW"
      },
      "execution_count": null,
      "outputs": []
    },
    {
      "cell_type": "markdown",
      "source": [
        "### **Platform(플랫폼)** 남은 13개 세부 그룹화  <BR>\n",
        "1) 플레이스테이션 시리즈(본체 650,000원) : PS, PS2, PS3&PSP , PS4&PSV <BR>\n",
        "2) X-Box 시리즈(본체 630,000원) : XB, X360, Xone <BR>\n",
        "3) 닌텐도 시리즈(본체 380,000원) : DS , 3DS <BR>\n",
        "4) 기타 : PC , GBA"
      ],
      "metadata": {
        "id": "wI8bKfpyyvY4"
      }
    },
    {
      "cell_type": "code",
      "source": [
        "# 플랫폼 생산량\n",
        "PS_Series = len(df[df.Platform == 'PS']) + len(df[df.Platform == 'PS2']) + len(df[df.Platform == 'PS3']) + len(df[df.Platform == 'PSP']) + len(df[df.Platform == 'PS4']) + len(df[df.Platform == 'PSV'])\n",
        "Xbox_Series = len(df[df.Platform == 'XB']) + len(df[df.Platform == 'X360']) + len(df[df.Platform == 'XOne'])\n",
        "Nin_Series = len(df[df.Platform == 'DS']) + len(df[df.Platform == '3DS'])\n",
        "\n",
        "platform_num = [PS_Series , Xbox_Series , Nin_Series , len(df[df.Platform == 'PC']) , len(df[df.Platform == 'GBA']) ]\n",
        "labels = ['PS_Series' , 'Xbox_Series' , 'Nin_Series' , 'PC' , 'GBA']\n",
        "\n",
        "plt.pie(platform_num, labels=labels , autopct='%.1f%%' );"
      ],
      "metadata": {
        "id": "sf0jZHQp33Mm"
      },
      "execution_count": null,
      "outputs": []
    },
    {
      "cell_type": "markdown",
      "source": [
        "### **Genre(장르)** <BR>"
      ],
      "metadata": {
        "id": "8WuCgkw34pCT"
      }
    },
    {
      "cell_type": "code",
      "source": [
        "# 장르별 분류\n",
        "plt.pie(df.Genre.value_counts() , labels = df.Genre.value_counts().index , autopct='%.1f%%' );"
      ],
      "metadata": {
        "id": "DYNnGtTw4y_n"
      },
      "execution_count": null,
      "outputs": []
    },
    {
      "cell_type": "code",
      "source": [
        "# 국가별 장르 분류\n",
        "a = df.groupby('Genre').mean()['Total_Sales']; b = df.groupby('Genre').mean()['NA_Sales']; c = df.groupby('Genre').mean()['EU_Sales']\n",
        "d = df.groupby('Genre').mean()['JP_Sales']; e = df.groupby('Genre').mean()['Other_Sales']\n",
        "plt.pie(e , labels=e.index , autopct='%.1f%%' );"
      ],
      "metadata": {
        "id": "XLNDwHnA40Qm"
      },
      "execution_count": null,
      "outputs": []
    },
    {
      "cell_type": "code",
      "source": [
        "# 국가별 장르와 플랫폼\n",
        "ap = df.groupby('Genre').sum()['Platform_num']\n",
        "\n",
        "bp = df.groupby( ['Genre' , 'Platform_num'] ).sum()['NA_Sales']\n",
        "cp = df.groupby( ['Genre' , 'Platform_num'] ).sum()['EU_Sales']\n",
        "dp = df.groupby( ['Genre' , 'Platform_num'] ).sum()['JP_Sales']\n",
        "ep = df.groupby( ['Genre' , 'Platform_num'] ).sum()['Other_Sales']\n",
        "\n",
        "plt.pie(bp , labels=bp.index , autopct='%.1f%%' ); plt.title('NA');"
      ],
      "metadata": {
        "id": "qm9zyv4F40xM"
      },
      "execution_count": null,
      "outputs": []
    },
    {
      "cell_type": "markdown",
      "source": [
        "## Index적 역할 데이터 - 이름과 제작사\n",
        "분석을 통한 결과 값(1~3개, 소수)이 나오면 사후 검증으로 조사함"
      ],
      "metadata": {
        "id": "Kw3R0e7oyvwb"
      }
    }
  ]
}